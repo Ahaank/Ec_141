{
 "cells": [
  {
   "cell_type": "markdown",
   "metadata": {
    "collapsed": true
   },
   "source": [
    "# Power Calculations for Planning Program Evaluations\n",
    "Bryan Graham\n",
    "University of California - Berkeley  \n",
    "\n",
    "January 2019\n",
    "<br>\n",
    "<br>\n",
    "#### Code citation:\n",
    "<br>\n",
    "Graham, Bryan S. (2019). \"Power Calculations for Planning Program Evaluations Python Jupyter Notebook,\" (Version 1.0) [Computer program]. Available at http://bryangraham.github.io/econometrics/ (Accessed 27 May 2019)    \n",
    "<br>\n",
    "<br>\n",
    "Begin by loading the *ipt* module. For information about this module, including how to install it, please see this blog [post](http://bryangraham.github.io/econometrics/causal/inference/2016/05/15/IPT-module.html).    \n",
    "<br>\n",
    "<br>\n",
    "We will also need several standard libraries that are all part of the usual Python \"scientific stack\"."
   ]
  },
  {
   "cell_type": "code",
   "execution_count": 1,
   "metadata": {},
   "outputs": [],
   "source": [
    "# Append location of ipt module base directory to system path\n",
    "# NOTE: only required if permanent install not made (see link above)\n",
    "import sys\n",
    "sys.path.append('/Users/bgraham/Dropbox/Sites/software/ipt/')\n",
    "\n",
    "# Load ipt module\n",
    "import ipt as ipt"
   ]
  },
  {
   "cell_type": "code",
   "execution_count": 2,
   "metadata": {},
   "outputs": [],
   "source": [
    "# Direct Python to plot all figures inline (i.e., not in a separate window)\n",
    "%matplotlib inline\n",
    "\n",
    "# Load libraries\n",
    "import numpy as np\n",
    "import scipy as sp\n",
    "\n",
    "import pandas as pd"
   ]
  },
  {
   "cell_type": "markdown",
   "metadata": {},
   "source": [
    "Adjust the working directory assignment below to where you have saved the divers.pkl file on your local machine. This file is a pickled version of a pandas dataframe. This dataframe include information on lobster/conch diving participation and village of residence for 1,078 adult male Miskitos living in one of 60 villages in the Gracias a Dios region of Honduras. Also included are a set of sampling weights, but these do not feature in the power analysis below for reasons I will explain."
   ]
  },
  {
   "cell_type": "code",
   "execution_count": 3,
   "metadata": {},
   "outputs": [],
   "source": [
    "# Working (root) directory\n",
    "workdir =  '/Users/bgraham/Dropbox/Teaching/Berkeley_Courses/Ec141/Spring2019/'"
   ]
  },
  {
   "cell_type": "markdown",
   "metadata": {},
   "source": [
    "Read in dataframe and compute some summary statistics. We can observe that 26.5 percent of the 1,078 individuals in the dataset were active divers in the 2002/3 season or were divers sometime in the past."
   ]
  },
  {
   "cell_type": "code",
   "execution_count": 4,
   "metadata": {},
   "outputs": [
    {
     "name": "stdout",
     "output_type": "stream",
     "text": [
      "             diver           sw  constant\n",
      "count  1078.000000  1078.000000    1078.0\n",
      "mean      0.265306    14.275484       1.0\n",
      "std       0.441701     6.084577       0.0\n",
      "min       0.000000     2.115400       1.0\n",
      "25%       0.000000    10.747700       1.0\n",
      "50%       0.000000    16.086900       1.0\n",
      "75%       1.000000    20.108600       1.0\n",
      "max       1.000000    22.947400       1.0\n"
     ]
    }
   ],
   "source": [
    "# Read in La Moskitia 2003 diver survey extract\n",
    "divers = pd.read_pickle(workdir + \"Datasets/divers.pkl\") \n",
    "print(divers.describe())"
   ]
  },
  {
   "cell_type": "markdown",
   "metadata": {},
   "source": [
    "The next snippet of code uses the **ipt** module's implementation of OLS to compute an estimate of the mean participation rate in the lobster/conch diving industry among adult miskito males residing in Gracias a Dios. We could alternatively use statsmodels OLS command, but I find my own _ipt_ implementation better tailored to settings where survey weights and clustered standard errors are required routinely.\n",
    "<br>\n",
    "<br>\n",
    "Although 27 percent of our sample are current or past divers, once we taking into account the stratified nature of the survey from which our sample was drawn, we produce an estimate of the population rate of participation of just 16 percent. With a 95 percent confidence interval of (roughly) between 11 and 20 percent. We will nevertheless base our analysis upon the unweighted data. The reason for doing so is the belief that, while the sixty villages included in our sample may not be perfectly representative of La Moskitia, they are representative of the villages where our program is likely to operate. This is consistent with the original purposes of the survey, which was to learn more about lobster divers and their families in the region. Hence it purposively over-sampled villages where diving was thought to be common. These are precisely those villages that are well suited to host the hypothetical intervention."
   ]
  },
  {
   "cell_type": "code",
   "execution_count": 5,
   "metadata": {},
   "outputs": [
    {
     "name": "stdout",
     "output_type": "stream",
     "text": [
      "\n",
      "-----------------------------------------------------------------------\n",
      "-                     OLS ESTIMATION RESULTS                          -\n",
      "-----------------------------------------------------------------------\n",
      "Dependent variable:        diver\n",
      "Number of observations, n: 1078\n",
      "\n",
      "\n",
      "\n",
      "Independent variable       Coef.    ( Std. Err.)     (0.95 Confid. Interval )\n",
      "-------------------------------------------------------------------------------------------\n",
      "constant                   0.157673 (  0.022852)     (  0.112883 ,  0.202463)\n",
      "\n",
      "-------------------------------------------------------------------------------------------\n",
      "NOTE: Cluster-robust standard errors reported\n",
      "      Cluster-variable   = village\n",
      "      Number of clusters = 60\n",
      "NOTE: (Sampling) Weighted estimates computed.\n",
      "      Weight-variable   = sw\n"
     ]
    },
    {
     "name": "stderr",
     "output_type": "stream",
     "text": [
      "/Users/bgraham/anaconda/lib/python3.6/site-packages/numpy/core/fromnumeric.py:51: FutureWarning: Series.nonzero() is deprecated and will be removed in a future version.Use Series.to_numpy().nonzero() instead\n",
      "  return getattr(obj, method)(*args, **kwds)\n"
     ]
    }
   ],
   "source": [
    "# Estimate adult Miskito male participation rate in Lobster diving\n",
    "Y = divers['diver']\n",
    "X = divers['constant'].to_frame()\n",
    "\n",
    "v_id = pd.factorize(divers['village'])[0]\n",
    "v_id = pd.Series(v_id, name = 'village')\n",
    "\n",
    "[beta_hat, vcov_hat ,_ ,_ ,_] = ipt.ols(Y, X, c_id=v_id, s_wgt=divers['sw'], nocons=True, silent=False)"
   ]
  },
  {
   "cell_type": "markdown",
   "metadata": {},
   "source": [
    "## Power calculation for hypothetical Miskito diver intervention\n",
    "To perform the power calculations for the hypothetical intervention described in _Lecture Note 3: Power Calculations_ I begin with a simple one-way ANOVA analysis. I use the output from this analysis to compute an estimate of the variance of diver participation as well as the intra-cluster correlation. The binary outcome is whether the individual dives for lobster/conch or not and the factors correspond to villages of residence.\n",
    "<br>\n",
    "<br>\n",
    "The statsmodels module has a servicable implementation of ANOVA which I use here. Unfortunately it does not directly report an estimate of intra-cluster correlation, but it is easy to construct one from the information in the ANOVA table. I use the $ \\omega^{2} $ estimate of intra-cluster correlation, because it is less biased than the more common $ \\eta^{2} $ measure. In the present case the difference between the two measures is meaningful. They imply substantially different minimum sample sizes to achieve the same level of power."
   ]
  },
  {
   "cell_type": "code",
   "execution_count": 6,
   "metadata": {},
   "outputs": [
    {
     "name": "stdout",
     "output_type": "stream",
     "text": [
      "Oneway ANOVA table for Lobster Diving Outcome\n",
      "----------------------------------------------------\n",
      "\n",
      "                df      sum_sq   mean_sq         F        PR(>F)\n",
      "C(village)    59.0   40.126416  0.680109  4.072746  1.142984e-20\n",
      "Residual    1018.0  169.996033  0.166990       NaN           NaN\n",
      "\n",
      "----------------------------------------------------\n",
      "Pr(Diver=1) = 0.2653\n",
      "sigma       = 0.4417\n",
      "omega_sq    = 0.1440\n",
      "eta_sq      = 0.1910\n"
     ]
    }
   ],
   "source": [
    "# load required libraries from statsmodels\n",
    "import statsmodels.api as sm\n",
    "from statsmodels.formula.api import ols as sm_ols\n",
    "\n",
    "# Fit linear model with village dummies\n",
    "divers_anova = sm_ols('diver ~ C(village)', data=divers).fit()      # Fit linear model\n",
    "\n",
    "# Construct one-way ANOVA table\n",
    "table        = sm.stats.anova_lm(divers_anova, typ=1)               # Anova table\n",
    "\n",
    "# Extra table elements to compute omega_sq (a nearly unbiased estimate of rho)\n",
    "SS_b         = table['sum_sq'][0]                                   # Between-village sum-of-squares\n",
    "SS_w         = table['sum_sq'][1]                                   # Within-village sum-of-squares\n",
    "df_b         = table['df'][0]                                       # Between degress of freedom \n",
    "df_w         = table['df'][1]                                       # Within degress of freedom \n",
    "omega_sq     = (SS_b - (SS_w/df_w)*df_b)/ \\\n",
    "               (SS_b + SS_w + (SS_w/df_w))                          # rho estimate (omega_sq)\n",
    "eta_sq       = SS_b / (SS_b + SS_w )                                # rho estimate (eta_sq)   \n",
    "\n",
    "# Calculate the overall standard deviation of the outcome\n",
    "sigma = np.sqrt((SS_b + SS_w + (SS_w/df_w))/len(divers['diver']))\n",
    "Q     = divers['diver'].mean()                                      # Sample participation rate\n",
    "                                                                    # NOTE: sigma2 = Q(1-Q)\n",
    "# Print out ANOVA results\n",
    "print(\"Oneway ANOVA table for Lobster Diving Outcome\")\n",
    "print(\"----------------------------------------------------\")\n",
    "print(\"\")\n",
    "print(table)\n",
    "print(\"\")\n",
    "print(\"----------------------------------------------------\")\n",
    "print(\"Pr(Diver=1) = \" + \"%0.4f\" % Q)\n",
    "print(\"sigma       = \" + \"%0.4f\" % sigma)\n",
    "print(\"omega_sq    = \" + \"%0.4f\" % omega_sq)\n",
    "print(\"eta_sq      = \" + \"%0.4f\" % eta_sq)"
   ]
  },
  {
   "cell_type": "markdown",
   "metadata": {},
   "source": [
    "With the above information from the baseline survey calculated I can now proceed to calculate minimum sample sizes needed to reliabily (i.e., $ \\beta = 0.80 $) detect effects of different sizes. I focus on sampling plans which target $T = 20$ respondents per village (which is about what is available in the baseline survey).\n",
    "<br>\n",
    "<br>\n",
    "The calculations are based on the minimum sample size formulae given in _Lecture Note 3: Power Calculations_. For the two-sided test case I use the approximation which appears in Dulfo et al (2007, _Handbook of Development Economics_).\n",
    "<br>\n",
    "<br>\n",
    "Note in what follows I actually solve for $N_{1}=\\lambda N$, and round this _up_ to the nearest integer. With $\\lambda = 0.5 $, as is optimal under the homogenous variance assumption, this ensures that an even number of clusters is chosen...which can then we divided equally into treatmend and controls."
   ]
  },
  {
   "cell_type": "code",
   "execution_count": 7,
   "metadata": {},
   "outputs": [
    {
     "name": "stdout",
     "output_type": "stream",
     "text": [
      "\n",
      "One-sided Test\n",
      "beta = 0.80, mde = 0.05, sigma  = 0.442, rho = 0.000, N = 98, n = NT = 1960\n",
      "beta = 0.80, mde = 0.05, sigma  = 0.442, rho = 0.144, N = 362, n = NT = 7240\n",
      "beta = 0.80, mde = 0.05, sigma  = 0.442, rho = 0.191, N = 448, n = NT = 8960\n",
      "beta = 0.80, mde = 0.10, sigma  = 0.442, rho = 0.000, N = 26, n = NT = 520\n",
      "beta = 0.80, mde = 0.10, sigma  = 0.442, rho = 0.144, N = 92, n = NT = 1840\n",
      "beta = 0.80, mde = 0.10, sigma  = 0.442, rho = 0.191, N = 112, n = NT = 2240\n",
      "beta = 0.80, mde = 0.15, sigma  = 0.442, rho = 0.000, N = 12, n = NT = 240\n",
      "beta = 0.80, mde = 0.15, sigma  = 0.442, rho = 0.144, N = 42, n = NT = 840\n",
      "beta = 0.80, mde = 0.15, sigma  = 0.442, rho = 0.191, N = 50, n = NT = 1000\n",
      "\n",
      "Two-sided Test (approximate)\n",
      "beta = 0.80, mde = 0.05, sigma  = 0.442, rho = 0.000, N = 124, n = NT = 2480\n",
      "beta = 0.80, mde = 0.05, sigma  = 0.442, rho = 0.144, N = 458, n = NT = 9160\n",
      "beta = 0.80, mde = 0.05, sigma  = 0.442, rho = 0.191, N = 568, n = NT = 11360\n",
      "beta = 0.80, mde = 0.10, sigma  = 0.442, rho = 0.000, N = 32, n = NT = 640\n",
      "beta = 0.80, mde = 0.10, sigma  = 0.442, rho = 0.144, N = 116, n = NT = 2320\n",
      "beta = 0.80, mde = 0.10, sigma  = 0.442, rho = 0.191, N = 142, n = NT = 2840\n",
      "beta = 0.80, mde = 0.15, sigma  = 0.442, rho = 0.000, N = 14, n = NT = 280\n",
      "beta = 0.80, mde = 0.15, sigma  = 0.442, rho = 0.144, N = 52, n = NT = 1040\n",
      "beta = 0.80, mde = 0.15, sigma  = 0.442, rho = 0.191, N = 64, n = NT = 1280\n"
     ]
    }
   ],
   "source": [
    "alpha  = 0.05\n",
    "power  = [0.8]\n",
    "lmbda  = 0.5\n",
    "mde    = [0.05, 0.10, 0.15]\n",
    "rho    = [0, omega_sq, eta_sq]\n",
    "\n",
    "T     = 20\n",
    "\n",
    "print(\"\")                \n",
    "print(\"One-sided Test\")\n",
    "for beta in power:\n",
    "    for theta in mde:\n",
    "        for p in rho:\n",
    "            N1 = (p + (1-p)/T)*((1-lmbda)**-1)*((sigma/theta)**2) \\\n",
    "                             *(sp.stats.norm.ppf(1-alpha) - sp.stats.norm.ppf(1-beta))**2\n",
    "            N  = np.ceil(((1-lmbda)/lmbda)*N1) + np.ceil(N1)   \n",
    "            print(\"beta = \"  + \"%0.2f\" % beta + \", mde = \" + \"%0.2f\" % theta + \", sigma  = \" + \"%0.3f\" % sigma   \\\n",
    "                + \", rho = \" + \"%0.3f\" % p    + \", N = \"   + \"%0.0f\" % N     + \", n = NT = \" + \"%0.0f\" % (N*T))             \n",
    "                \n",
    "print(\"\")                \n",
    "print(\"Two-sided Test (approximate)\")\n",
    "for beta in power:\n",
    "    for theta in mde:\n",
    "        for p in rho:\n",
    "            N1 = (p + (1-p)/T)*((1-lmbda)**-1)*((sigma/theta)**2) \\\n",
    "                              *(sp.stats.norm.ppf(1-alpha/2) - sp.stats.norm.ppf(1-beta))**2\n",
    "            N  = np.ceil(((1-lmbda)/lmbda)*N1) + np.ceil(N1)          \n",
    "            print(\"beta = \"  + \"%0.2f\" % beta + \", mde = \" + \"%0.2f\" % theta + \", sigma  = \" + \"%0.3f\" % sigma  \\\n",
    "                + \", rho = \" + \"%0.3f\" % p    + \", N = \"   + \"%0.0f\" % N     + \", n = NT = \"  + \"%0.0f\" % (N*T))             "
   ]
  },
  {
   "cell_type": "markdown",
   "metadata": {},
   "source": [
    "Two evaluate the two-sided approximate calculations I use the statsmodels library to perform \"exact\" numerical calculations. This also shows how an intra-cluster corrected power calculation can be teased out of a basic power calculation two (see how I pass parameters into the solve_power() function below. For the examples considered here the approximate calculation is quite good. Identical answers are given up to the reported precision."
   ]
  },
  {
   "cell_type": "code",
   "execution_count": 8,
   "metadata": {},
   "outputs": [
    {
     "name": "stdout",
     "output_type": "stream",
     "text": [
      "\n",
      "Two-sided Test (numerical calculation)\n",
      "beta = 0.80, mde = 0.05, sigma  = 0.442, rho = 0.000, N = 124, n = NT = 2480\n",
      "beta = 0.80, mde = 0.05, sigma  = 0.442, rho = 0.144, N = 458, n = NT = 9160\n",
      "beta = 0.80, mde = 0.05, sigma  = 0.442, rho = 0.191, N = 568, n = NT = 11360\n",
      "beta = 0.80, mde = 0.10, sigma  = 0.442, rho = 0.000, N = 32, n = NT = 640\n",
      "beta = 0.80, mde = 0.10, sigma  = 0.442, rho = 0.144, N = 116, n = NT = 2320\n",
      "beta = 0.80, mde = 0.10, sigma  = 0.442, rho = 0.191, N = 142, n = NT = 2840\n",
      "beta = 0.80, mde = 0.15, sigma  = 0.442, rho = 0.000, N = 14, n = NT = 280\n",
      "beta = 0.80, mde = 0.15, sigma  = 0.442, rho = 0.144, N = 52, n = NT = 1040\n",
      "beta = 0.80, mde = 0.15, sigma  = 0.442, rho = 0.191, N = 64, n = NT = 1280\n"
     ]
    }
   ],
   "source": [
    "import statsmodels.stats.power as smp\n",
    "\n",
    "print(\"\")                \n",
    "print(\"Two-sided Test (numerical calculation)\")\n",
    "for beta in power:\n",
    "    for theta in mde:\n",
    "        for p in rho:\n",
    "            N1 = smp.NormalIndPower().solve_power(effect_size=theta/(np.sqrt((p + (1-p)/T))*sigma), nobs1 = None, \\\n",
    "                                           alpha = alpha, power = beta, ratio = (1-lmbda)/lmbda, \\\n",
    "                                           alternative='two-sided') \n",
    "            N  = np.ceil(((1-lmbda)/lmbda)*N1) + np.ceil(N1)          \n",
    "            print(\"beta = \"  + \"%0.2f\" % beta + \", mde = \" + \"%0.2f\" % theta + \", sigma  = \" + \"%0.3f\"  % sigma  \\\n",
    "                + \", rho = \" + \"%0.3f\" % p    + \", N = \"   + \"%0.0f\" % N     + \", n = NT = \" + \"%0.0f\" % (N*T)) "
   ]
  },
  {
   "cell_type": "markdown",
   "metadata": {},
   "source": [
    "Thats it! Hopefully this notebook has convinced you that some decent baseline survey data and a few calculations can help you in designing a well powered program evaluation."
   ]
  },
  {
   "cell_type": "code",
   "execution_count": 9,
   "metadata": {},
   "outputs": [
    {
     "data": {
      "text/html": [
       "<style>\n",
       "\n",
       "html {\n",
       "  font-size: 62.5% !important; }\n",
       "body {\n",
       "  font-size: 1.5em !important; /* currently ems cause chrome bug misinterpreting rems on body element */\n",
       "  line-height: 1.6 !important;\n",
       "  font-weight: 400 !important;\n",
       "  font-family: \"Raleway\", \"HelveticaNeue\", \"Helvetica Neue\", Helvetica, Arial, sans-serif !important;\n",
       "  color: #222 !important; }\n",
       "\n",
       "div{ border-radius: 0px !important;  }\n",
       "div.CodeMirror-sizer{ background: rgb(244, 244, 248) !important; }\n",
       "div.input_area{ background: rgb(244, 244, 248) !important; }\n",
       "\n",
       "div.out_prompt_overlay:hover{ background: rgb(244, 244, 248) !important; }\n",
       "div.input_prompt:hover{ background: rgb(244, 244, 248) !important; }\n",
       "\n",
       "h1, h2, h3, h4, h5, h6 {\n",
       "  color: #333 !important;\n",
       "  margin-top: 0 !important;\n",
       "  margin-bottom: 2rem !important;\n",
       "  font-weight: 300 !important; }\n",
       "h1 { font-size: 4.0rem !important; line-height: 1.2 !important;  letter-spacing: -.1rem !important;}\n",
       "h2 { font-size: 3.6rem !important; line-height: 1.25 !important; letter-spacing: -.1rem !important; }\n",
       "h3 { font-size: 3.0rem !important; line-height: 1.3 !important;  letter-spacing: -.1rem !important; }\n",
       "h4 { font-size: 2.4rem !important; line-height: 1.35 !important; letter-spacing: -.08rem !important; }\n",
       "h5 { font-size: 1.8rem !important; line-height: 1.5 !important;  letter-spacing: -.05rem !important; }\n",
       "h6 { font-size: 1.5rem !important; line-height: 1.6 !important;  letter-spacing: 0 !important; }\n",
       "\n",
       "@media (min-width: 550px) {\n",
       "  h1 { font-size: 5.0rem !important; }\n",
       "  h2 { font-size: 4.2rem !important; }\n",
       "  h3 { font-size: 3.6rem !important; }\n",
       "  h4 { font-size: 3.0rem !important; }\n",
       "  h5 { font-size: 2.4rem !important; }\n",
       "  h6 { font-size: 1.5rem !important; }\n",
       "}\n",
       "\n",
       "p {\n",
       "  margin-top: 0 !important; }\n",
       "  \n",
       "a {\n",
       "  color: #1EAEDB !important; }\n",
       "a:hover {\n",
       "  color: #0FA0CE !important; }\n",
       "  \n",
       "code {\n",
       "  padding: .2rem .5rem !important;\n",
       "  margin: 0 .2rem !important;\n",
       "  font-size: 90% !important;\n",
       "  white-space: nowrap !important;\n",
       "  background: #F1F1F1 !important;\n",
       "  border: 1px solid #E1E1E1 !important;\n",
       "  border-radius: 4px !important; }\n",
       "pre > code {\n",
       "  display: block !important;\n",
       "  padding: 1rem 1.5rem !important;\n",
       "  white-space: pre !important; }\n",
       "  \n",
       "button{ border-radius: 0px !important; }\n",
       ".navbar-inner{ background-image: none !important;  }\n",
       "select, textarea{ border-radius: 0px !important; }\n",
       "\n",
       "</style>"
      ],
      "text/plain": [
       "<IPython.core.display.HTML object>"
      ]
     },
     "execution_count": 9,
     "metadata": {},
     "output_type": "execute_result"
    }
   ],
   "source": [
    "# This imports an attractive notebook style from Github\n",
    "from IPython.display import HTML\n",
    "from urllib.request import urlopen\n",
    "html = urlopen('http://bit.ly/1Bf5Hft')\n",
    "HTML(html.read().decode('utf-8'))"
   ]
  }
 ],
 "metadata": {
  "anaconda-cloud": {},
  "kernelspec": {
   "display_name": "Python 3",
   "language": "python",
   "name": "python3"
  },
  "language_info": {
   "codemirror_mode": {
    "name": "ipython",
    "version": 3
   },
   "file_extension": ".py",
   "mimetype": "text/x-python",
   "name": "python",
   "nbconvert_exporter": "python",
   "pygments_lexer": "ipython3",
   "version": "3.6.8"
  }
 },
 "nbformat": 4,
 "nbformat_minor": 1
}
